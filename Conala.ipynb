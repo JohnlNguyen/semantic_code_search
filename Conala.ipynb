{
 "cells": [
  {
   "cell_type": "code",
   "execution_count": 1,
   "metadata": {
    "scrolled": true
   },
   "outputs": [
    {
     "name": "stdout",
     "output_type": "stream",
     "text": [
      "\n",
      "WARNING: The TensorFlow contrib module will not be included in TensorFlow 2.0.\n",
      "For more information, please see:\n",
      "  * https://github.com/tensorflow/community/blob/master/rfcs/20180907-contrib-sunset.md\n",
      "  * https://github.com/tensorflow/addons\n",
      "If you depend on functionality not listed there, please file an issue.\n",
      "\n",
      "INFO:tensorflow:Entry Point [tensor2tensor.envs.tic_tac_toe_env:TicTacToeEnv] registered with id [T2TEnv-TicTacToeEnv-v0]\n"
     ]
    }
   ],
   "source": [
    "%load_ext autoreload\n",
    "%autoreload 2\n",
    "\n",
    "import pandas as pd\n",
    "import numpy as np\n",
    "import tensorflow as tf\n",
    "from tensor2tensor import models\n",
    "from tensor2tensor import problems\n",
    "from tensor2tensor.layers import common_layers\n",
    "from tensor2tensor.utils import trainer_lib\n",
    "from tensor2tensor.utils import t2t_model\n",
    "from tensor2tensor.utils import registry\n",
    "from tensor2tensor.utils import metrics\n",
    "\n",
    "tfe = tf.contrib.eager\n",
    "tfe.enable_eager_execution()\n",
    "Modes = tf.estimator.ModeKeys"
   ]
  },
  {
   "cell_type": "markdown",
   "metadata": {},
   "source": [
    "### Register Problem"
   ]
  },
  {
   "cell_type": "code",
   "execution_count": 2,
   "metadata": {
    "scrolled": true
   },
   "outputs": [],
   "source": [
    "from tensor2tensor.data_generators import semantic_search\n",
    "search_problem = semantic_search.SemanticSearch()"
   ]
  },
  {
   "cell_type": "markdown",
   "metadata": {},
   "source": [
    "## Generating Data "
   ]
  },
  {
   "cell_type": "code",
   "execution_count": 3,
   "metadata": {
    "scrolled": true
   },
   "outputs": [
    {
     "data": {
      "text/plain": [
       "[('gs://conala/conala-mined.jsonl', 'conala-mined.jsonl'),\n",
       " ('gs://conala/conala-train.json', 'conala-train.json')]"
      ]
     },
     "execution_count": 3,
     "metadata": {},
     "output_type": "execute_result"
    }
   ],
   "source": [
    "\"\"\"Skip this if already generated data\"\"\"\n",
    "search_problem.generate_data(data_dir='/tf/t2t_data', tmp_dir='/tf/datagen')"
   ]
  },
  {
   "cell_type": "markdown",
   "metadata": {},
   "source": [
    "### Building Model and Train"
   ]
  },
  {
   "cell_type": "code",
   "execution_count": 2,
   "metadata": {
    "scrolled": true
   },
   "outputs": [],
   "source": [
    "PARAMS = {}\n",
    "PARAMS['T2T_Problem'] = 'semantic_search'\n",
    "PARAMS['T2T_Model'] = 'transformer'\n",
    "PARAMS['T2T_HPARAMS'] = 'transformer_base_single_gpu'\n",
    "PARAMS['train_steps'] = 10000000\n",
    "PARAMS['eval_steps'] = 1000\n",
    "PARAMS['keep_checkpoint_max'] = 3"
   ]
  },
  {
   "cell_type": "code",
   "execution_count": 3,
   "metadata": {
    "scrolled": true
   },
   "outputs": [],
   "source": [
    "import tensorflow as tf\n",
    "from tensor2tensor.utils import trainer_lib\n",
    "from tensor2tensor.utils.trainer_lib import create_run_config, create_experiment, create_hparams\n",
    "from tensor2tensor.utils import registry\n",
    "from tensor2tensor import models, problems\n",
    "\n",
    "hparams = create_hparams(PARAMS['T2T_HPARAMS'])\n",
    "\n",
    "FLAGS = tf.flags\n",
    "FLAGS.problems = PARAMS['T2T_Problem']\n",
    "FLAGS.problem = PARAMS['T2T_Problem']\n",
    "FLAGS.model = PARAMS['T2T_Model']\n",
    "FLAGS.schedule = \"train_and_evaluate\"\n",
    "\n",
    "\"\"\"Changing up warmup steps\"\"\"\n",
    "hparams.batch_size = 1024\n",
    "hparams.learning_rate_warmup_steps = 400\n",
    "hparams.learning_rate = .4"
   ]
  },
  {
   "cell_type": "code",
   "execution_count": 4,
   "metadata": {
    "scrolled": true
   },
   "outputs": [],
   "source": [
    "PARAMS['TMP_DIR'] = '/tf/datagen/'\n",
    "PARAMS['DATA_DIR'] = '/tf/t2t_data'\n",
    "PARAMS['TRAIN_DIR'] = '/tf/t2t_train/intent_to_code/conala/' \n",
    "PARAMS['OUTPUT_DIR'] = 'tf/t2t_train/semantic_search'"
   ]
  },
  {
   "cell_type": "code",
   "execution_count": 5,
   "metadata": {
    "scrolled": true
   },
   "outputs": [
    {
     "name": "stdout",
     "output_type": "stream",
     "text": [
      "WARNING:tensorflow:From /tf/tensor2tensor/utils/trainer_lib.py:240: RunConfig.__init__ (from tensorflow.contrib.learn.python.learn.estimators.run_config) is deprecated and will be removed in a future version.\n",
      "Instructions for updating:\n",
      "When switching to tf.estimator.Estimator, use tf.estimator.RunConfig instead.\n",
      "INFO:tensorflow:Configuring DataParallelism to replicate the model.\n",
      "INFO:tensorflow:schedule=continuous_train_and_eval\n",
      "INFO:tensorflow:worker_gpu=1\n",
      "INFO:tensorflow:sync=False\n",
      "WARNING:tensorflow:Schedule=continuous_train_and_eval. Assuming that training is running on a single machine.\n",
      "INFO:tensorflow:datashard_devices: ['gpu:0']\n",
      "INFO:tensorflow:caching_devices: None\n",
      "INFO:tensorflow:ps_devices: ['gpu:0']\n"
     ]
    }
   ],
   "source": [
    "RUN_CONFIG = create_run_config(hparams, model_dir=PARAMS['TRAIN_DIR'])"
   ]
  },
  {
   "cell_type": "code",
   "execution_count": null,
   "metadata": {
    "scrolled": false
   },
   "outputs": [],
   "source": [
    "exp_fn = create_experiment(\n",
    "        run_config=RUN_CONFIG,\n",
    "        hparams=hparams,\n",
    "        model_name=PARAMS['T2T_Model'],\n",
    "        problem_name=PARAMS['T2T_Problem'],\n",
    "        data_dir=PARAMS['DATA_DIR'],\n",
    "        train_steps=PARAMS['train_steps'],\n",
    "        eval_steps=PARAMS['eval_steps']\n",
    "    )\n",
    "exp_fn.train_and_evaluate() "
   ]
  },
  {
   "cell_type": "markdown",
   "metadata": {},
   "source": [
    "## Getting latest checkpoint"
   ]
  },
  {
   "cell_type": "code",
   "execution_count": 6,
   "metadata": {
    "scrolled": true
   },
   "outputs": [
    {
     "data": {
      "text/plain": [
       "'/tf/t2t_train/intent_to_code/conala/model.ckpt-51000'"
      ]
     },
     "execution_count": 6,
     "metadata": {},
     "output_type": "execute_result"
    }
   ],
   "source": [
    "\"\"\"Getting latest checkpoint\"\"\"\n",
    "ckpt_path = tf.train.latest_checkpoint(PARAMS['TRAIN_DIR'])\n",
    "ckpt_path "
   ]
  },
  {
   "cell_type": "markdown",
   "metadata": {},
   "source": [
    "### Evaluating Translation"
   ]
  },
  {
   "cell_type": "code",
   "execution_count": 23,
   "metadata": {
    "scrolled": true
   },
   "outputs": [],
   "source": [
    "translate_model = registry.model(PARAMS['T2T_Model'])(hparams, Modes.EVAL)\n",
    "\n",
    "encoders = problems.problem(PARAMS['T2T_Problem']).feature_encoders(PARAMS['DATA_DIR'])\n",
    "\n",
    "def encode(input_str, output_str=None):\n",
    "    \"\"\"Input str to features dict, ready for inference\"\"\"\n",
    "    inputs = encoders[\"inputs\"].encode(input_str) + [1]  # add EOS id\n",
    "    batch_inputs = tf.reshape(inputs, [1, -1, 1])  # Make it 3D.\n",
    "    return {\"inputs\": batch_inputs}\n",
    "\n",
    "def decode(integers):\n",
    "    \"\"\"List of ints to str\"\"\"\n",
    "    integers = list(np.squeeze(integers))\n",
    "    if 1 in integers:\n",
    "        integers = integers[:integers.index(1)]\n",
    "    return encoders[\"inputs\"].decode(np.squeeze(integers))\n",
    "\n",
    "# Restore and translate!\n",
    "def translate(inputs):\n",
    "    encoded_inputs = encode(inputs)\n",
    "    with tfe.restore_variables_on_create(tf.train.latest_checkpoint(PARAMS['TRAIN_DIR'])):\n",
    "        model_output = translate_model.infer(encoded_inputs, \n",
    "                                             beam_size=4,\n",
    "                                             alpha=0.6)[\"outputs\"]\n",
    "        return decode(model_output)"
   ]
  },
  {
   "cell_type": "code",
   "execution_count": 47,
   "metadata": {
    "scrolled": true
   },
   "outputs": [
    {
     "data": {
      "text/html": [
       "<div>\n",
       "<style scoped>\n",
       "    .dataframe tbody tr th:only-of-type {\n",
       "        vertical-align: middle;\n",
       "    }\n",
       "\n",
       "    .dataframe tbody tr th {\n",
       "        vertical-align: top;\n",
       "    }\n",
       "\n",
       "    .dataframe thead th {\n",
       "        text-align: right;\n",
       "    }\n",
       "</style>\n",
       "<table border=\"1\" class=\"dataframe\">\n",
       "  <thead>\n",
       "    <tr style=\"text-align: right;\">\n",
       "      <th></th>\n",
       "      <th>id</th>\n",
       "      <th>intent</th>\n",
       "      <th>intent_tokens</th>\n",
       "      <th>parent_answer_post_id</th>\n",
       "      <th>prob</th>\n",
       "      <th>question_id</th>\n",
       "      <th>slot_map</th>\n",
       "      <th>snippet</th>\n",
       "      <th>snippet_tokens</th>\n",
       "    </tr>\n",
       "  </thead>\n",
       "  <tbody>\n",
       "    <tr>\n",
       "      <th>0</th>\n",
       "      <td>34705205_34705233_0</td>\n",
       "      <td>Sort a nested list by two elements</td>\n",
       "      <td>[Sort, a, nested, list, by, two, elements]</td>\n",
       "      <td>34705233</td>\n",
       "      <td>0.869000</td>\n",
       "      <td>34705205</td>\n",
       "      <td>{}</td>\n",
       "      <td>sorted(l, key=lambda x: (-int(x[1]), x[0]))</td>\n",
       "      <td>[sorted, (, l, ,, key, =, lambda, x, :, (, -, ...</td>\n",
       "    </tr>\n",
       "    <tr>\n",
       "      <th>1</th>\n",
       "      <td>13905936_13905946_0</td>\n",
       "      <td>converting integer to list in python</td>\n",
       "      <td>[converting, integer, to, list, in, python]</td>\n",
       "      <td>13905946</td>\n",
       "      <td>0.852670</td>\n",
       "      <td>13905936</td>\n",
       "      <td>{}</td>\n",
       "      <td>[int(x) for x in str(num)]</td>\n",
       "      <td>[[, int, (, x, ), for, x, in, str, (, num, ), ]]</td>\n",
       "    </tr>\n",
       "    <tr>\n",
       "      <th>2</th>\n",
       "      <td>13837848_13838041_0</td>\n",
       "      <td>Converting byte string in unicode string</td>\n",
       "      <td>[Converting, byte, string, in, unicode, string]</td>\n",
       "      <td>13838041</td>\n",
       "      <td>0.852143</td>\n",
       "      <td>13837848</td>\n",
       "      <td>{}</td>\n",
       "      <td>c.decode('unicode_escape')</td>\n",
       "      <td>[c, ., decode, (, 'unicode_escape', )]</td>\n",
       "    </tr>\n",
       "    <tr>\n",
       "      <th>3</th>\n",
       "      <td>23490152_23490179_0</td>\n",
       "      <td>List of arguments with argparse</td>\n",
       "      <td>[List, of, arguments, with, argparse]</td>\n",
       "      <td>23490179</td>\n",
       "      <td>0.850829</td>\n",
       "      <td>23490152</td>\n",
       "      <td>{}</td>\n",
       "      <td>parser.add_argument('-t', dest='table', help='...</td>\n",
       "      <td>[parser, ., add_argument, (, '-t', ,, dest, =,...</td>\n",
       "    </tr>\n",
       "    <tr>\n",
       "      <th>4</th>\n",
       "      <td>2721782_2721807_0</td>\n",
       "      <td>How to convert a Date string to a DateTime obj...</td>\n",
       "      <td>[How, to, convert, a, Date, string, to, a, Dat...</td>\n",
       "      <td>2721807</td>\n",
       "      <td>0.840372</td>\n",
       "      <td>2721782</td>\n",
       "      <td>{}</td>\n",
       "      <td>datetime.datetime.strptime(s, '%Y-%m-%dT%H:%M:...</td>\n",
       "      <td>[datetime, ., datetime, ., strptime, (, s, ,, ...</td>\n",
       "    </tr>\n",
       "  </tbody>\n",
       "</table>\n",
       "</div>"
      ],
      "text/plain": [
       "                    id                                             intent  \\\n",
       "0  34705205_34705233_0                 Sort a nested list by two elements   \n",
       "1  13905936_13905946_0               converting integer to list in python   \n",
       "2  13837848_13838041_0           Converting byte string in unicode string   \n",
       "3  23490152_23490179_0                    List of arguments with argparse   \n",
       "4    2721782_2721807_0  How to convert a Date string to a DateTime obj...   \n",
       "\n",
       "                                       intent_tokens  parent_answer_post_id  \\\n",
       "0         [Sort, a, nested, list, by, two, elements]               34705233   \n",
       "1        [converting, integer, to, list, in, python]               13905946   \n",
       "2    [Converting, byte, string, in, unicode, string]               13838041   \n",
       "3              [List, of, arguments, with, argparse]               23490179   \n",
       "4  [How, to, convert, a, Date, string, to, a, Dat...                2721807   \n",
       "\n",
       "       prob  question_id slot_map  \\\n",
       "0  0.869000     34705205       {}   \n",
       "1  0.852670     13905936       {}   \n",
       "2  0.852143     13837848       {}   \n",
       "3  0.850829     23490152       {}   \n",
       "4  0.840372      2721782       {}   \n",
       "\n",
       "                                             snippet  \\\n",
       "0        sorted(l, key=lambda x: (-int(x[1]), x[0]))   \n",
       "1                         [int(x) for x in str(num)]   \n",
       "2                         c.decode('unicode_escape')   \n",
       "3  parser.add_argument('-t', dest='table', help='...   \n",
       "4  datetime.datetime.strptime(s, '%Y-%m-%dT%H:%M:...   \n",
       "\n",
       "                                      snippet_tokens  \n",
       "0  [sorted, (, l, ,, key, =, lambda, x, :, (, -, ...  \n",
       "1   [[, int, (, x, ), for, x, in, str, (, num, ), ]]  \n",
       "2             [c, ., decode, (, 'unicode_escape', )]  \n",
       "3  [parser, ., add_argument, (, '-t', ,, dest, =,...  \n",
       "4  [datetime, ., datetime, ., strptime, (, s, ,, ...  "
      ]
     },
     "execution_count": 47,
     "metadata": {},
     "output_type": "execute_result"
    }
   ],
   "source": [
    "conala_df = pd.read_json(\"/tf/datagen/conala-mined.jsonl.prod\")\n",
    "conala_df.head()"
   ]
  },
  {
   "cell_type": "code",
   "execution_count": 25,
   "metadata": {
    "scrolled": true
   },
   "outputs": [
    {
     "name": "stdout",
     "output_type": "stream",
     "text": [
      "decode a hex string '4a4b4c' to UTF-8.\n",
      "bytes.fromhex('4a4b4c').decode('utf-8')\n"
     ]
    }
   ],
   "source": [
    "intent, code = conala_df.iloc[1].rewritten_intent, conala_df.iloc[1].snippet\n",
    "print(intent)\n",
    "print(code)"
   ]
  },
  {
   "cell_type": "code",
   "execution_count": 49,
   "metadata": {
    "scrolled": true
   },
   "outputs": [],
   "source": [
    "code_rows = []\n",
    "intent_rows = []\n",
    "\n",
    "for row in conala_df.itertuples():\n",
    "    intent_rows.append(\" \".join([ \"#NEWLINE\" if x == \"\\n\" else x for x in row.intent_tokens]))\n",
    "    code_rows.append(\" \".join([ \"#NEWLINE\" if x == \"\\n\" else x for x in row.snippet_tokens ]))"
   ]
  },
  {
   "cell_type": "code",
   "execution_count": 50,
   "metadata": {
    "scrolled": true
   },
   "outputs": [],
   "source": [
    "\"\"\"Write predicted translation to file\"\"\"\n",
    "with open('/tf/datagen/conala-train-mined.code', 'w+') as f:\n",
    "    for l in code_rows:\n",
    "        f.write(l+'\\n')"
   ]
  },
  {
   "cell_type": "code",
   "execution_count": 51,
   "metadata": {
    "scrolled": true
   },
   "outputs": [],
   "source": [
    "\"\"\"Write intent to file so we can use test_conala.sh to decode\"\"\"\n",
    "with open('/tf/datagen/conala-train-mined.intent', 'w+') as f:\n",
    "    for intent in intent_rows:\n",
    "        f.write( intent + '\\n')"
   ]
  },
  {
   "cell_type": "code",
   "execution_count": 52,
   "metadata": {},
   "outputs": [
    {
     "data": {
      "text/plain": [
       "(593891, 593891)"
      ]
     },
     "execution_count": 52,
     "metadata": {},
     "output_type": "execute_result"
    }
   ],
   "source": [
    "len(code_rows), len(intent_rows)"
   ]
  },
  {
   "cell_type": "code",
   "execution_count": null,
   "metadata": {},
   "outputs": [],
   "source": []
  }
 ],
 "metadata": {
  "kernelspec": {
   "display_name": "Python 3",
   "language": "python",
   "name": "python3"
  },
  "language_info": {
   "codemirror_mode": {
    "name": "ipython",
    "version": 3
   },
   "file_extension": ".py",
   "mimetype": "text/x-python",
   "name": "python",
   "nbconvert_exporter": "python",
   "pygments_lexer": "ipython3",
   "version": "3.5.2"
  }
 },
 "nbformat": 4,
 "nbformat_minor": 2
}
