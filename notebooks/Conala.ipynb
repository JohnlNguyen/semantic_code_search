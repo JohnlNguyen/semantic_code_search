{
 "cells": [
  {
   "cell_type": "markdown",
   "metadata": {},
   "source": [
    "### Preprocess Data"
   ]
  },
  {
   "cell_type": "code",
   "execution_count": 2,
   "metadata": {},
   "outputs": [
    {
     "name": "stderr",
     "output_type": "stream",
     "text": [
      "/opt/conda/lib/python3.6/importlib/_bootstrap.py:219: RuntimeWarning: numpy.dtype size changed, may indicate binary incompatibility. Expected 96, got 88\n",
      "  return f(*args, **kwds)\n",
      "/opt/conda/lib/python3.6/importlib/_bootstrap.py:219: RuntimeWarning: numpy.ufunc size changed, may indicate binary incompatibility. Expected 192, got 176\n",
      "  return f(*args, **kwds)\n",
      "/opt/conda/lib/python3.6/site-packages/sklearn/ensemble/weight_boosting.py:29: DeprecationWarning: numpy.core.umath_tests is an internal NumPy module and should not be imported. It will be removed in a future NumPy release.\n",
      "  from numpy.core.umath_tests import inner1d\n",
      "/opt/conda/lib/python3.6/importlib/_bootstrap.py:219: RuntimeWarning: numpy.dtype size changed, may indicate binary incompatibility. Expected 96, got 88\n",
      "  return f(*args, **kwds)\n",
      "/opt/conda/lib/python3.6/importlib/_bootstrap.py:219: RuntimeWarning: numpy.ufunc size changed, may indicate binary incompatibility. Expected 192, got 176\n",
      "  return f(*args, **kwds)\n"
     ]
    }
   ],
   "source": [
    "%load_ext autoreload\n",
    "%autoreload 2\n",
    "\n",
    "import ast\n",
    "import glob\n",
    "import re\n",
    "from pathlib import Path\n",
    "\n",
    "import astor\n",
    "import pandas as pd\n",
    "import spacy\n",
    "import tensorflow as tf\n",
    "\n",
    "from tqdm import tqdm\n",
    "from nltk.tokenize import RegexpTokenizer\n",
    "from sklearn.model_selection import train_test_split\n",
    "\n",
    "from general_utils import apply_parallel, flattenlist\n",
    "from lang_model_utils import tokenize_docstring, tokenize_code\n",
    "\n",
    "tf.logging.set_verbosity(tf.logging.ERROR)\n",
    "\n",
    "EN = spacy.load('en')"
   ]
  },
  {
   "cell_type": "markdown",
   "metadata": {},
   "source": [
    "#### Data can be pulled from\n",
    "gs://conala/conala-corpus"
   ]
  },
  {
   "cell_type": "code",
   "execution_count": 3,
   "metadata": {},
   "outputs": [
    {
     "data": {
      "text/html": [
       "<div>\n",
       "<style scoped>\n",
       "    .dataframe tbody tr th:only-of-type {\n",
       "        vertical-align: middle;\n",
       "    }\n",
       "\n",
       "    .dataframe tbody tr th {\n",
       "        vertical-align: top;\n",
       "    }\n",
       "\n",
       "    .dataframe thead th {\n",
       "        text-align: right;\n",
       "    }\n",
       "</style>\n",
       "<table border=\"1\" class=\"dataframe\">\n",
       "  <thead>\n",
       "    <tr style=\"text-align: right;\">\n",
       "      <th></th>\n",
       "      <th>intent</th>\n",
       "      <th>question_id</th>\n",
       "      <th>rewritten_intent</th>\n",
       "      <th>snippet</th>\n",
       "    </tr>\n",
       "  </thead>\n",
       "  <tbody>\n",
       "    <tr>\n",
       "      <th>0</th>\n",
       "      <td>How to convert a list of multiple integers int...</td>\n",
       "      <td>41067960</td>\n",
       "      <td>Concatenate elements of a list 'x' of multiple...</td>\n",
       "      <td>sum(d * 10 ** i for i, d in enumerate(x[::-1]))</td>\n",
       "    </tr>\n",
       "    <tr>\n",
       "      <th>1</th>\n",
       "      <td>How to convert a list of multiple integers int...</td>\n",
       "      <td>41067960</td>\n",
       "      <td>convert a list of integers into a single integer</td>\n",
       "      <td>r = int(''.join(map(str, x)))</td>\n",
       "    </tr>\n",
       "    <tr>\n",
       "      <th>2</th>\n",
       "      <td>how to convert a datetime string back to datet...</td>\n",
       "      <td>4170655</td>\n",
       "      <td>convert a DateTime string back to a DateTime o...</td>\n",
       "      <td>datetime.strptime('2010-11-13 10:33:54.227806'...</td>\n",
       "    </tr>\n",
       "    <tr>\n",
       "      <th>3</th>\n",
       "      <td>Averaging the values in a dictionary based on ...</td>\n",
       "      <td>29565452</td>\n",
       "      <td>get the average of a list values for each key ...</td>\n",
       "      <td>[(i, sum(j) / len(j)) for i, j in list(d.items...</td>\n",
       "    </tr>\n",
       "    <tr>\n",
       "      <th>4</th>\n",
       "      <td>zip lists in python</td>\n",
       "      <td>13704860</td>\n",
       "      <td>zip two lists `[1, 2]` and `[3, 4]` into a lis...</td>\n",
       "      <td>zip([1, 2], [3, 4])</td>\n",
       "    </tr>\n",
       "  </tbody>\n",
       "</table>\n",
       "</div>"
      ],
      "text/plain": [
       "                                              intent  question_id  \\\n",
       "0  How to convert a list of multiple integers int...     41067960   \n",
       "1  How to convert a list of multiple integers int...     41067960   \n",
       "2  how to convert a datetime string back to datet...      4170655   \n",
       "3  Averaging the values in a dictionary based on ...     29565452   \n",
       "4                                zip lists in python     13704860   \n",
       "\n",
       "                                    rewritten_intent  \\\n",
       "0  Concatenate elements of a list 'x' of multiple...   \n",
       "1   convert a list of integers into a single integer   \n",
       "2  convert a DateTime string back to a DateTime o...   \n",
       "3  get the average of a list values for each key ...   \n",
       "4  zip two lists `[1, 2]` and `[3, 4]` into a lis...   \n",
       "\n",
       "                                             snippet  \n",
       "0    sum(d * 10 ** i for i, d in enumerate(x[::-1]))  \n",
       "1                      r = int(''.join(map(str, x)))  \n",
       "2  datetime.strptime('2010-11-13 10:33:54.227806'...  \n",
       "3  [(i, sum(j) / len(j)) for i, j in list(d.items...  \n",
       "4                                zip([1, 2], [3, 4])  "
      ]
     },
     "execution_count": 3,
     "metadata": {},
     "output_type": "execute_result"
    }
   ],
   "source": [
    "df_train = pd.read_json(\"./data/conala-corpus/conala-train.json\")\n",
    "df_train.head()"
   ]
  },
  {
   "cell_type": "code",
   "execution_count": 4,
   "metadata": {},
   "outputs": [
    {
     "name": "stdout",
     "output_type": "stream",
     "text": [
      "CPU times: user 13.8 s, sys: 688 ms, total: 14.5 s\n",
      "Wall time: 15.8 s\n"
     ]
    }
   ],
   "source": [
    "%%time\n",
    "import itertools\n",
    "contents = Path(\"./data/conala-corpus/conala-mined.jsonl\").read_text()\n",
    "contents = contents.splitlines()\n",
    "df_mined = pd.DataFrame([dict(eval(x)) for x in contents])"
   ]
  },
  {
   "cell_type": "code",
   "execution_count": 97,
   "metadata": {},
   "outputs": [
    {
     "data": {
      "text/html": [
       "<div>\n",
       "<style scoped>\n",
       "    .dataframe tbody tr th:only-of-type {\n",
       "        vertical-align: middle;\n",
       "    }\n",
       "\n",
       "    .dataframe tbody tr th {\n",
       "        vertical-align: top;\n",
       "    }\n",
       "\n",
       "    .dataframe thead th {\n",
       "        text-align: right;\n",
       "    }\n",
       "</style>\n",
       "<table border=\"1\" class=\"dataframe\">\n",
       "  <thead>\n",
       "    <tr style=\"text-align: right;\">\n",
       "      <th></th>\n",
       "      <th>id</th>\n",
       "      <th>intent</th>\n",
       "      <th>parent_answer_post_id</th>\n",
       "      <th>prob</th>\n",
       "      <th>question_id</th>\n",
       "      <th>snippet</th>\n",
       "    </tr>\n",
       "  </thead>\n",
       "  <tbody>\n",
       "    <tr>\n",
       "      <th>0</th>\n",
       "      <td>34705205_34705233_0</td>\n",
       "      <td>Sort a nested list by two elements</td>\n",
       "      <td>34705233</td>\n",
       "      <td>0.869000</td>\n",
       "      <td>34705205</td>\n",
       "      <td>sorted(l, key=lambda x: (-int(x[1]), x[0]))</td>\n",
       "    </tr>\n",
       "    <tr>\n",
       "      <th>1</th>\n",
       "      <td>13905936_13905946_0</td>\n",
       "      <td>converting integer to list in python</td>\n",
       "      <td>13905946</td>\n",
       "      <td>0.852670</td>\n",
       "      <td>13905936</td>\n",
       "      <td>[int(x) for x in str(num)]</td>\n",
       "    </tr>\n",
       "    <tr>\n",
       "      <th>2</th>\n",
       "      <td>13837848_13838041_0</td>\n",
       "      <td>Converting byte string in unicode string</td>\n",
       "      <td>13838041</td>\n",
       "      <td>0.852143</td>\n",
       "      <td>13837848</td>\n",
       "      <td>c.decode('unicode_escape')</td>\n",
       "    </tr>\n",
       "    <tr>\n",
       "      <th>3</th>\n",
       "      <td>23490152_23490179_0</td>\n",
       "      <td>List of arguments with argparse</td>\n",
       "      <td>23490179</td>\n",
       "      <td>0.850829</td>\n",
       "      <td>23490152</td>\n",
       "      <td>parser.add_argument('-t', dest='table', help='...</td>\n",
       "    </tr>\n",
       "    <tr>\n",
       "      <th>4</th>\n",
       "      <td>2721782_2721807_0</td>\n",
       "      <td>How to convert a Date string to a DateTime obj...</td>\n",
       "      <td>2721807</td>\n",
       "      <td>0.840372</td>\n",
       "      <td>2721782</td>\n",
       "      <td>datetime.datetime.strptime(s, '%Y-%m-%dT%H:%M:...</td>\n",
       "    </tr>\n",
       "  </tbody>\n",
       "</table>\n",
       "</div>"
      ],
      "text/plain": [
       "                    id                                             intent  \\\n",
       "0  34705205_34705233_0                 Sort a nested list by two elements   \n",
       "1  13905936_13905946_0               converting integer to list in python   \n",
       "2  13837848_13838041_0           Converting byte string in unicode string   \n",
       "3  23490152_23490179_0                    List of arguments with argparse   \n",
       "4    2721782_2721807_0  How to convert a Date string to a DateTime obj...   \n",
       "\n",
       "   parent_answer_post_id      prob  question_id  \\\n",
       "0               34705233  0.869000     34705205   \n",
       "1               13905946  0.852670     13905936   \n",
       "2               13838041  0.852143     13837848   \n",
       "3               23490179  0.850829     23490152   \n",
       "4                2721807  0.840372      2721782   \n",
       "\n",
       "                                             snippet  \n",
       "0        sorted(l, key=lambda x: (-int(x[1]), x[0]))  \n",
       "1                         [int(x) for x in str(num)]  \n",
       "2                         c.decode('unicode_escape')  \n",
       "3  parser.add_argument('-t', dest='table', help='...  \n",
       "4  datetime.datetime.strptime(s, '%Y-%m-%dT%H:%M:...  "
      ]
     },
     "execution_count": 97,
     "metadata": {},
     "output_type": "execute_result"
    }
   ],
   "source": [
    "df_mined.head()"
   ]
  },
  {
   "cell_type": "code",
   "execution_count": 6,
   "metadata": {},
   "outputs": [],
   "source": [
    "def get_intent_snippet_pairs(row):\n",
    "    return (' '.join(tokenize_code(row.snippet)),\n",
    "            ' '.join(tokenize_docstring(\n",
    "                row.rewritten_intent if 'rewritten_intent' in row and row.rewritten_intent != None else row.intent)))"
   ]
  },
  {
   "cell_type": "code",
   "execution_count": 7,
   "metadata": {},
   "outputs": [],
   "source": [
    "\"\"\"Tokenize data and split into code and intent\"\"\"\n",
    "pairs = df_train.apply(get_intent_snippet_pairs, axis=\"columns\")\n",
    "pairs_mined = df_mined.apply(get_intent_snippet_pairs, axis=\"columns\")"
   ]
  },
  {
   "cell_type": "code",
   "execution_count": 11,
   "metadata": {},
   "outputs": [],
   "source": [
    "train_code, train_comment = zip(*pairs_mined.append(pairs))\n",
    "train_code, train_comment = list(train_code), list(train_comment)\n",
    "assert len(train_code) == len(train_comment)"
   ]
  },
  {
   "cell_type": "code",
   "execution_count": 157,
   "metadata": {},
   "outputs": [
    {
     "name": "stdout",
     "output_type": "stream",
     "text": [
      "['sorted', 'l', 'key', 'lambda', 'x', 'int', 'x', '1', 'x', '0']\n",
      "['utf-8', 'sorted', 'l', 'key', 'lambda', 'x', 'int', 'x', '1', 'x', '0', '']\n"
     ]
    }
   ],
   "source": [
    "from tokenize import tokenize\n",
    "from io import BytesIO\n",
    "from keras.preprocessing.text import text_to_word_sequence\n",
    "\n",
    "pytok = lambda s : [t.string for t in tokenize(BytesIO(s.encode('utf-8')).readline)]\n",
    "\n",
    "print(text_to_word_sequence(train_code[0]))\n",
    "print(pytok(train_code[0]))"
   ]
  },
  {
   "cell_type": "code",
   "execution_count": 158,
   "metadata": {},
   "outputs": [
    {
     "name": "stderr",
     "output_type": "stream",
     "text": [
      "WARNING:root:....tokenizing data\n",
      "WARNING:root:Setting maximum document length to 15 based upon hueristic of 0.7 percentile.\n",
      " See full histogram by insepecting the `document_length_stats` attribute.\n",
      "WARNING:root:(1/2) done. 27 sec\n",
      "WARNING:root:....building corpus\n",
      "WARNING:root:(2/2) done. 4 sec\n",
      "WARNING:root:Finished parsing 596,270 documents.\n",
      "WARNING:root:...fit is finished, beginning transform\n",
      "WARNING:root:...padding data\n",
      "WARNING:root:done. 6 sec\n",
      "WARNING:root:....tokenizing data\n",
      "WARNING:root:Setting maximum document length to 10 based upon hueristic of 0.7 percentile.\n",
      " See full histogram by insepecting the `document_length_stats` attribute.\n",
      "WARNING:root:(1/2) done. 20 sec\n",
      "WARNING:root:....building corpus\n",
      "WARNING:root:(2/2) done. 5 sec\n",
      "WARNING:root:Finished parsing 596,270 documents.\n",
      "WARNING:root:...fit is finished, beginning transform\n",
      "WARNING:root:...padding data\n",
      "WARNING:root:done. 5 sec\n"
     ]
    }
   ],
   "source": [
    "\"\"\"Tokenize Code-Intent\"\"\"\n",
    "from ktext.preprocess import processor\n",
    "import logging\n",
    "   \n",
    "code_proc = processor(hueristic_pct_padding=.7, keep_n=20000)\n",
    "code_proc.set_tokenizer(tok)\n",
    "t_code = code_proc.fit_transform(train_code)\n",
    "\n",
    "comment_proc = processor(append_indicators=True, hueristic_pct_padding=.7, keep_n=14000, padding ='post')\n",
    "t_comment = comment_proc.fit_transform(train_comment)"
   ]
  },
  {
   "cell_type": "code",
   "execution_count": 159,
   "metadata": {},
   "outputs": [],
   "source": [
    "\"\"\" Saving processed files to disk\"\"\"\n",
    "import dill as dpickle\n",
    "import numpy as np\n",
    "from pathlib import Path\n",
    "\n",
    "OUTPUT_PATH = Path('./data/conala-corpus/pickle')\n",
    "OUTPUT_PATH.mkdir(exist_ok=True)\n",
    "\n",
    "# Save the preprocessor\n",
    "with open(OUTPUT_PATH/'conala_code_proc.dpkl', 'wb') as f:\n",
    "    dpickle.dump(code_proc, f)\n",
    "\n",
    "with open(OUTPUT_PATH/'conala_comment_proc.dpkl', 'wb') as f:\n",
    "    dpickle.dump(comment_proc, f)\n",
    "\n",
    "# Save the processed data\n",
    "np.save(OUTPUT_PATH/'conala_t_code_vecs.npy', t_code)\n",
    "np.save(OUTPUT_PATH/'conala_t_comment_vecs.npy', t_comment)"
   ]
  },
  {
   "cell_type": "markdown",
   "metadata": {},
   "source": [
    "## Start from here to reuse processed data"
   ]
  },
  {
   "cell_type": "code",
   "execution_count": 9,
   "metadata": {},
   "outputs": [
    {
     "name": "stdout",
     "output_type": "stream",
     "text": [
      "Shape of encoder input: (596270, 15)\n",
      "Shape of decoder input: (596270, 9)\n",
      "Shape of decoder target: (596270, 9)\n",
      "Size of vocabulary for data/conala-corpus/pickle/conala_code_proc.dpkl: 20,002\n",
      "Size of vocabulary for data/conala-corpus/pickle/conala_comment_proc.dpkl: 12,428\n"
     ]
    }
   ],
   "source": [
    "%reload_ext autoreload\n",
    "%autoreload 2\n",
    "from seq2seq_utils import load_decoder_inputs, load_encoder_inputs, load_text_processor\n",
    "\n",
    "OUTPUT_PATH = Path('./data/conala-corpus/pickle')\n",
    "OUTPUT_PATH.mkdir(exist_ok=True)\n",
    "\n",
    "encoder_input_data, encoder_seq_len = load_encoder_inputs(OUTPUT_PATH/'conala_t_code_vecs.npy')\n",
    "decoder_input_data, decoder_target_data = load_decoder_inputs(OUTPUT_PATH/'conala_t_comment_vecs.npy')\n",
    "num_encoder_tokens, enc_pp = load_text_processor(OUTPUT_PATH/'conala_code_proc.dpkl')\n",
    "num_decoder_tokens, dec_pp = load_text_processor(OUTPUT_PATH/'conala_comment_proc.dpkl')"
   ]
  },
  {
   "cell_type": "markdown",
   "metadata": {},
   "source": [
    "### Building Model "
   ]
  },
  {
   "cell_type": "code",
   "execution_count": 173,
   "metadata": {},
   "outputs": [
    {
     "name": "stdout",
     "output_type": "stream",
     "text": [
      "__________________________________________________________________________________________________\n",
      "Layer (type)                    Output Shape         Param #     Connected to                     \n",
      "==================================================================================================\n",
      "Decoder-Input (InputLayer)      (None, None)         0                                            \n",
      "__________________________________________________________________________________________________\n",
      "Decoder-Word-Embedding (Embeddi (None, None, 800)    9942400     Decoder-Input[0][0]              \n",
      "__________________________________________________________________________________________________\n",
      "Encoder-Input (InputLayer)      (None, 15)           0                                            \n",
      "__________________________________________________________________________________________________\n",
      "Decoder-Batchnorm-1 (BatchNorma (None, None, 800)    3200        Decoder-Word-Embedding[0][0]     \n",
      "__________________________________________________________________________________________________\n",
      "Encoder-Model (Model)           (None, 1000)         21407800    Encoder-Input[0][0]              \n",
      "__________________________________________________________________________________________________\n",
      "Decoder-GRU (GRU)               [(None, None, 1000), 5403000     Decoder-Batchnorm-1[0][0]        \n",
      "                                                                 Encoder-Model[1][0]              \n",
      "__________________________________________________________________________________________________\n",
      "Decoder-Batchnorm-2 (BatchNorma (None, None, 1000)   4000        Decoder-GRU[0][0]                \n",
      "__________________________________________________________________________________________________\n",
      "Final-Output-Dense (Dense)      (None, None, 12428)  12440428    Decoder-Batchnorm-2[0][0]        \n",
      "==================================================================================================\n",
      "Total params: 49,200,828\n",
      "Trainable params: 49,195,628\n",
      "Non-trainable params: 5,200\n",
      "__________________________________________________________________________________________________\n"
     ]
    }
   ],
   "source": [
    "from seq2seq_utils import build_seq2seq_model\n",
    "warmup_steps = 4000\n",
    "initial_lr = 2.0\n",
    "hidden_dim = 1000\n",
    "seq2seq_Model = build_seq2seq_model(word_emb_dim=800,\n",
    "                                    hidden_state_dim=hidden_dim,\n",
    "                                    encoder_seq_len=encoder_seq_len,\n",
    "                                    num_encoder_tokens=num_encoder_tokens,\n",
    "                                    num_decoder_tokens=num_decoder_tokens)\n",
    "seq2seq_Model.summary()"
   ]
  },
  {
   "cell_type": "code",
   "execution_count": 174,
   "metadata": {},
   "outputs": [
    {
     "name": "stdout",
     "output_type": "stream",
     "text": [
      "Train on 524717 samples, validate on 71553 samples\n",
      "Epoch 1/16\n",
      "524717/524717 [==============================] - 257s 489us/step - loss: 3.5163 - val_loss: 3.9782\n"
     ]
    },
    {
     "name": "stderr",
     "output_type": "stream",
     "text": [
      "/opt/conda/lib/python3.6/site-packages/keras/engine/network.py:872: UserWarning: Layer Decoder-GRU was passed non-serializable keyword arguments: {'initial_state': [<tf.Tensor 'Encoder-Model_2/Encoder-Last-GRU/while/Exit_3:0' shape=(?, 1000) dtype=float32>]}. They will not be included in the serialized model (and thus will be missing at deserialization time).\n",
      "  '. They will not be included '\n"
     ]
    },
    {
     "name": "stdout",
     "output_type": "stream",
     "text": [
      "Epoch 2/16\n",
      "524717/524717 [==============================] - 249s 475us/step - loss: 3.0889 - val_loss: 3.6912\n"
     ]
    },
    {
     "name": "stderr",
     "output_type": "stream",
     "text": [
      "/opt/conda/lib/python3.6/site-packages/keras/engine/network.py:872: UserWarning: Layer Decoder-GRU was passed non-serializable keyword arguments: {'initial_state': [<tf.Tensor 'Encoder-Model_2/Encoder-Last-GRU/while/Exit_3:0' shape=(?, 1000) dtype=float32>]}. They will not be included in the serialized model (and thus will be missing at deserialization time).\n",
      "  '. They will not be included '\n"
     ]
    },
    {
     "name": "stdout",
     "output_type": "stream",
     "text": [
      "Epoch 3/16\n",
      "524717/524717 [==============================] - 249s 475us/step - loss: 2.9318 - val_loss: 3.5653\n"
     ]
    },
    {
     "name": "stderr",
     "output_type": "stream",
     "text": [
      "/opt/conda/lib/python3.6/site-packages/keras/engine/network.py:872: UserWarning: Layer Decoder-GRU was passed non-serializable keyword arguments: {'initial_state': [<tf.Tensor 'Encoder-Model_2/Encoder-Last-GRU/while/Exit_3:0' shape=(?, 1000) dtype=float32>]}. They will not be included in the serialized model (and thus will be missing at deserialization time).\n",
      "  '. They will not be included '\n"
     ]
    },
    {
     "name": "stdout",
     "output_type": "stream",
     "text": [
      "Epoch 4/16\n",
      "524717/524717 [==============================] - 249s 475us/step - loss: 2.8434 - val_loss: 3.4695\n"
     ]
    },
    {
     "name": "stderr",
     "output_type": "stream",
     "text": [
      "/opt/conda/lib/python3.6/site-packages/keras/engine/network.py:872: UserWarning: Layer Decoder-GRU was passed non-serializable keyword arguments: {'initial_state': [<tf.Tensor 'Encoder-Model_2/Encoder-Last-GRU/while/Exit_3:0' shape=(?, 1000) dtype=float32>]}. They will not be included in the serialized model (and thus will be missing at deserialization time).\n",
      "  '. They will not be included '\n"
     ]
    },
    {
     "name": "stdout",
     "output_type": "stream",
     "text": [
      "Epoch 5/16\n",
      "524717/524717 [==============================] - 249s 475us/step - loss: 2.7666 - val_loss: 3.3597\n"
     ]
    },
    {
     "name": "stderr",
     "output_type": "stream",
     "text": [
      "/opt/conda/lib/python3.6/site-packages/keras/engine/network.py:872: UserWarning: Layer Decoder-GRU was passed non-serializable keyword arguments: {'initial_state': [<tf.Tensor 'Encoder-Model_2/Encoder-Last-GRU/while/Exit_3:0' shape=(?, 1000) dtype=float32>]}. They will not be included in the serialized model (and thus will be missing at deserialization time).\n",
      "  '. They will not be included '\n"
     ]
    },
    {
     "name": "stdout",
     "output_type": "stream",
     "text": [
      "Epoch 6/16\n",
      "524717/524717 [==============================] - 249s 475us/step - loss: 2.6983 - val_loss: 3.3183\n"
     ]
    },
    {
     "name": "stderr",
     "output_type": "stream",
     "text": [
      "/opt/conda/lib/python3.6/site-packages/keras/engine/network.py:872: UserWarning: Layer Decoder-GRU was passed non-serializable keyword arguments: {'initial_state': [<tf.Tensor 'Encoder-Model_2/Encoder-Last-GRU/while/Exit_3:0' shape=(?, 1000) dtype=float32>]}. They will not be included in the serialized model (and thus will be missing at deserialization time).\n",
      "  '. They will not be included '\n"
     ]
    },
    {
     "name": "stdout",
     "output_type": "stream",
     "text": [
      "Epoch 7/16\n",
      "524717/524717 [==============================] - 249s 475us/step - loss: 2.6488 - val_loss: 3.2551\n"
     ]
    },
    {
     "name": "stderr",
     "output_type": "stream",
     "text": [
      "/opt/conda/lib/python3.6/site-packages/keras/engine/network.py:872: UserWarning: Layer Decoder-GRU was passed non-serializable keyword arguments: {'initial_state': [<tf.Tensor 'Encoder-Model_2/Encoder-Last-GRU/while/Exit_3:0' shape=(?, 1000) dtype=float32>]}. They will not be included in the serialized model (and thus will be missing at deserialization time).\n",
      "  '. They will not be included '\n"
     ]
    },
    {
     "name": "stdout",
     "output_type": "stream",
     "text": [
      "Epoch 8/16\n",
      "524717/524717 [==============================] - 249s 475us/step - loss: 2.6024 - val_loss: 3.2061\n"
     ]
    },
    {
     "name": "stderr",
     "output_type": "stream",
     "text": [
      "/opt/conda/lib/python3.6/site-packages/keras/engine/network.py:872: UserWarning: Layer Decoder-GRU was passed non-serializable keyword arguments: {'initial_state': [<tf.Tensor 'Encoder-Model_2/Encoder-Last-GRU/while/Exit_3:0' shape=(?, 1000) dtype=float32>]}. They will not be included in the serialized model (and thus will be missing at deserialization time).\n",
      "  '. They will not be included '\n"
     ]
    },
    {
     "name": "stdout",
     "output_type": "stream",
     "text": [
      "Epoch 9/16\n",
      "524717/524717 [==============================] - 249s 475us/step - loss: 2.5619 - val_loss: 3.1616\n"
     ]
    },
    {
     "name": "stderr",
     "output_type": "stream",
     "text": [
      "/opt/conda/lib/python3.6/site-packages/keras/engine/network.py:872: UserWarning: Layer Decoder-GRU was passed non-serializable keyword arguments: {'initial_state': [<tf.Tensor 'Encoder-Model_2/Encoder-Last-GRU/while/Exit_3:0' shape=(?, 1000) dtype=float32>]}. They will not be included in the serialized model (and thus will be missing at deserialization time).\n",
      "  '. They will not be included '\n"
     ]
    },
    {
     "name": "stdout",
     "output_type": "stream",
     "text": [
      "Epoch 10/16\n",
      "524717/524717 [==============================] - 249s 475us/step - loss: 2.5318 - val_loss: 3.1167\n"
     ]
    },
    {
     "name": "stderr",
     "output_type": "stream",
     "text": [
      "/opt/conda/lib/python3.6/site-packages/keras/engine/network.py:872: UserWarning: Layer Decoder-GRU was passed non-serializable keyword arguments: {'initial_state': [<tf.Tensor 'Encoder-Model_2/Encoder-Last-GRU/while/Exit_3:0' shape=(?, 1000) dtype=float32>]}. They will not be included in the serialized model (and thus will be missing at deserialization time).\n",
      "  '. They will not be included '\n"
     ]
    },
    {
     "name": "stdout",
     "output_type": "stream",
     "text": [
      "Epoch 11/16\n",
      "524717/524717 [==============================] - 249s 475us/step - loss: 2.5020 - val_loss: 3.1115\n"
     ]
    },
    {
     "name": "stderr",
     "output_type": "stream",
     "text": [
      "/opt/conda/lib/python3.6/site-packages/keras/engine/network.py:872: UserWarning: Layer Decoder-GRU was passed non-serializable keyword arguments: {'initial_state': [<tf.Tensor 'Encoder-Model_2/Encoder-Last-GRU/while/Exit_3:0' shape=(?, 1000) dtype=float32>]}. They will not be included in the serialized model (and thus will be missing at deserialization time).\n",
      "  '. They will not be included '\n"
     ]
    },
    {
     "name": "stdout",
     "output_type": "stream",
     "text": [
      "Epoch 12/16\n",
      "524717/524717 [==============================] - 249s 475us/step - loss: 2.4792 - val_loss: 3.0686\n"
     ]
    },
    {
     "name": "stderr",
     "output_type": "stream",
     "text": [
      "/opt/conda/lib/python3.6/site-packages/keras/engine/network.py:872: UserWarning: Layer Decoder-GRU was passed non-serializable keyword arguments: {'initial_state': [<tf.Tensor 'Encoder-Model_2/Encoder-Last-GRU/while/Exit_3:0' shape=(?, 1000) dtype=float32>]}. They will not be included in the serialized model (and thus will be missing at deserialization time).\n",
      "  '. They will not be included '\n"
     ]
    },
    {
     "name": "stdout",
     "output_type": "stream",
     "text": [
      "Epoch 13/16\n",
      "524717/524717 [==============================] - 249s 475us/step - loss: 2.4635 - val_loss: 3.0657\n"
     ]
    },
    {
     "name": "stderr",
     "output_type": "stream",
     "text": [
      "/opt/conda/lib/python3.6/site-packages/keras/engine/network.py:872: UserWarning: Layer Decoder-GRU was passed non-serializable keyword arguments: {'initial_state': [<tf.Tensor 'Encoder-Model_2/Encoder-Last-GRU/while/Exit_3:0' shape=(?, 1000) dtype=float32>]}. They will not be included in the serialized model (and thus will be missing at deserialization time).\n",
      "  '. They will not be included '\n"
     ]
    },
    {
     "name": "stdout",
     "output_type": "stream",
     "text": [
      "Epoch 14/16\n",
      "524717/524717 [==============================] - 249s 475us/step - loss: 2.4437 - val_loss: 3.0235\n"
     ]
    },
    {
     "name": "stderr",
     "output_type": "stream",
     "text": [
      "/opt/conda/lib/python3.6/site-packages/keras/engine/network.py:872: UserWarning: Layer Decoder-GRU was passed non-serializable keyword arguments: {'initial_state': [<tf.Tensor 'Encoder-Model_2/Encoder-Last-GRU/while/Exit_3:0' shape=(?, 1000) dtype=float32>]}. They will not be included in the serialized model (and thus will be missing at deserialization time).\n",
      "  '. They will not be included '\n"
     ]
    },
    {
     "name": "stdout",
     "output_type": "stream",
     "text": [
      "Epoch 15/16\n",
      "524717/524717 [==============================] - 249s 475us/step - loss: 2.4235 - val_loss: 3.0151\n"
     ]
    },
    {
     "name": "stderr",
     "output_type": "stream",
     "text": [
      "/opt/conda/lib/python3.6/site-packages/keras/engine/network.py:872: UserWarning: Layer Decoder-GRU was passed non-serializable keyword arguments: {'initial_state': [<tf.Tensor 'Encoder-Model_2/Encoder-Last-GRU/while/Exit_3:0' shape=(?, 1000) dtype=float32>]}. They will not be included in the serialized model (and thus will be missing at deserialization time).\n",
      "  '. They will not be included '\n"
     ]
    },
    {
     "name": "stdout",
     "output_type": "stream",
     "text": [
      "Epoch 16/16\n",
      "524717/524717 [==============================] - 249s 475us/step - loss: 2.4098 - val_loss: 3.0112\n"
     ]
    },
    {
     "name": "stderr",
     "output_type": "stream",
     "text": [
      "/opt/conda/lib/python3.6/site-packages/keras/engine/network.py:872: UserWarning: Layer Decoder-GRU was passed non-serializable keyword arguments: {'initial_state': [<tf.Tensor 'Encoder-Model_2/Encoder-Last-GRU/while/Exit_3:0' shape=(?, 1000) dtype=float32>]}. They will not be included in the serialized model (and thus will be missing at deserialization time).\n",
      "  '. They will not be included '\n"
     ]
    }
   ],
   "source": [
    "from keras.models import Model, load_model\n",
    "import pandas as pd\n",
    "import logging\n",
    "\n",
    "from keras.callbacks import CSVLogger, ModelCheckpoint\n",
    "import numpy as np\n",
    "from keras import optimizers\n",
    "\n",
    "LOG_PATH = Path('./data/conala-corpus/logs')\n",
    "LOG_PATH.mkdir(exist_ok=True)\n",
    "\n",
    "seq2seq_Model.compile(optimizer=optimizers.Nadam(lr=0.01), loss='sparse_categorical_crossentropy')\n",
    "\n",
    "script_name_base = 'conala_func_'\n",
    "csv_logger = CSVLogger('{:}.log'.format(script_name_base))\n",
    "\n",
    "model_checkpoint = ModelCheckpoint(str(LOG_PATH/'{:}.epoch{{epoch:02d}}-val{{val_loss:.5f}}.hdf5'.format(script_name_base)),\n",
    "                                   save_best_only=True)\n",
    "\n",
    "batch_size = 256\n",
    "epochs = 16\n",
    "history = seq2seq_Model.fit([encoder_input_data, decoder_input_data], np.expand_dims(decoder_target_data, -1),\n",
    "          batch_size=batch_size,\n",
    "          epochs=epochs,\n",
    "          validation_split=0.12, callbacks=[csv_logger, model_checkpoint])"
   ]
  },
  {
   "cell_type": "code",
   "execution_count": 13,
   "metadata": {},
   "outputs": [
    {
     "data": {
      "text/html": [
       "<div>\n",
       "<style scoped>\n",
       "    .dataframe tbody tr th:only-of-type {\n",
       "        vertical-align: middle;\n",
       "    }\n",
       "\n",
       "    .dataframe tbody tr th {\n",
       "        vertical-align: top;\n",
       "    }\n",
       "\n",
       "    .dataframe thead th {\n",
       "        text-align: right;\n",
       "    }\n",
       "</style>\n",
       "<table border=\"1\" class=\"dataframe\">\n",
       "  <thead>\n",
       "    <tr style=\"text-align: right;\">\n",
       "      <th></th>\n",
       "      <th>intent</th>\n",
       "      <th>question_id</th>\n",
       "      <th>rewritten_intent</th>\n",
       "      <th>snippet</th>\n",
       "    </tr>\n",
       "  </thead>\n",
       "  <tbody>\n",
       "    <tr>\n",
       "      <th>0</th>\n",
       "      <td>How can I send a signal from a python program?</td>\n",
       "      <td>15080500</td>\n",
       "      <td>send a signal `signal.SIGUSR1` to the current ...</td>\n",
       "      <td>os.kill(os.getpid(), signal.SIGUSR1)</td>\n",
       "    </tr>\n",
       "    <tr>\n",
       "      <th>1</th>\n",
       "      <td>Decode Hex String in Python 3</td>\n",
       "      <td>3283984</td>\n",
       "      <td>decode a hex string '4a4b4c' to UTF-8.</td>\n",
       "      <td>bytes.fromhex('4a4b4c').decode('utf-8')</td>\n",
       "    </tr>\n",
       "    <tr>\n",
       "      <th>2</th>\n",
       "      <td>check if all elements in a list are identical</td>\n",
       "      <td>3844801</td>\n",
       "      <td>check if all elements in list `myList` are ide...</td>\n",
       "      <td>all(x == myList[0] for x in myList)</td>\n",
       "    </tr>\n",
       "    <tr>\n",
       "      <th>3</th>\n",
       "      <td>Format string dynamically</td>\n",
       "      <td>4302166</td>\n",
       "      <td>format number of spaces between strings `Pytho...</td>\n",
       "      <td>print('%*s : %*s' % (20, 'Python', 20, 'Very G...</td>\n",
       "    </tr>\n",
       "    <tr>\n",
       "      <th>4</th>\n",
       "      <td>How to convert a string from CP-1251 to UTF-8?</td>\n",
       "      <td>7555335</td>\n",
       "      <td>None</td>\n",
       "      <td>d.decode('cp1251').encode('utf8')</td>\n",
       "    </tr>\n",
       "  </tbody>\n",
       "</table>\n",
       "</div>"
      ],
      "text/plain": [
       "                                           intent  question_id  \\\n",
       "0  How can I send a signal from a python program?     15080500   \n",
       "1                   Decode Hex String in Python 3      3283984   \n",
       "2   check if all elements in a list are identical      3844801   \n",
       "3                       Format string dynamically      4302166   \n",
       "4  How to convert a string from CP-1251 to UTF-8?      7555335   \n",
       "\n",
       "                                    rewritten_intent  \\\n",
       "0  send a signal `signal.SIGUSR1` to the current ...   \n",
       "1             decode a hex string '4a4b4c' to UTF-8.   \n",
       "2  check if all elements in list `myList` are ide...   \n",
       "3  format number of spaces between strings `Pytho...   \n",
       "4                                               None   \n",
       "\n",
       "                                             snippet  \n",
       "0               os.kill(os.getpid(), signal.SIGUSR1)  \n",
       "1            bytes.fromhex('4a4b4c').decode('utf-8')  \n",
       "2                all(x == myList[0] for x in myList)  \n",
       "3  print('%*s : %*s' % (20, 'Python', 20, 'Very G...  \n",
       "4                  d.decode('cp1251').encode('utf8')  "
      ]
     },
     "execution_count": 13,
     "metadata": {},
     "output_type": "execute_result"
    }
   ],
   "source": [
    "df_test = pd.read_json(\"./data/conala-corpus/conala-test.json\")\n",
    "df_test.head()"
   ]
  },
  {
   "cell_type": "code",
   "execution_count": 14,
   "metadata": {},
   "outputs": [
    {
     "ename": "NameError",
     "evalue": "name 'seq2seq_Model' is not defined",
     "output_type": "error",
     "traceback": [
      "\u001b[0;31m---------------------------------------------------------------------------\u001b[0m",
      "\u001b[0;31mNameError\u001b[0m                                 Traceback (most recent call last)",
      "\u001b[0;32m<ipython-input-14-9fdbb08304a5>\u001b[0m in \u001b[0;36m<module>\u001b[0;34m()\u001b[0m\n\u001b[1;32m      8\u001b[0m seq2seq_inf = Seq2Seq_Inference(encoder_preprocessor=enc_pp,\n\u001b[1;32m      9\u001b[0m                                  \u001b[0mdecoder_preprocessor\u001b[0m\u001b[0;34m=\u001b[0m\u001b[0mdec_pp\u001b[0m\u001b[0;34m,\u001b[0m\u001b[0;34m\u001b[0m\u001b[0m\n\u001b[0;32m---> 10\u001b[0;31m                                  seq2seq_model=seq2seq_Model)\n\u001b[0m\u001b[1;32m     11\u001b[0m \u001b[0;34m\u001b[0m\u001b[0m\n\u001b[1;32m     12\u001b[0m \u001b[0mdemo_testdf\u001b[0m \u001b[0;34m=\u001b[0m \u001b[0mpd\u001b[0m\u001b[0;34m.\u001b[0m\u001b[0mDataFrame\u001b[0m\u001b[0;34m(\u001b[0m\u001b[0;34m{\u001b[0m\u001b[0;34m'code'\u001b[0m\u001b[0;34m:\u001b[0m\u001b[0mtest_code\u001b[0m\u001b[0;34m,\u001b[0m \u001b[0;34m'comment'\u001b[0m\u001b[0;34m:\u001b[0m\u001b[0mtest_comment\u001b[0m\u001b[0;34m,\u001b[0m \u001b[0;34m'ref'\u001b[0m\u001b[0;34m:\u001b[0m\u001b[0;34m''\u001b[0m\u001b[0;34m}\u001b[0m\u001b[0;34m)\u001b[0m\u001b[0;34m\u001b[0m\u001b[0m\n",
      "\u001b[0;31mNameError\u001b[0m: name 'seq2seq_Model' is not defined"
     ]
    }
   ],
   "source": [
    "from seq2seq_utils import Seq2Seq_Inference\n",
    "import pandas as pd\n",
    "\n",
    "pairs = df_test.apply(get_intent_snippet_pairs, axis=\"columns\")\n",
    "test_code, test_comment = zip(*pairs)\n",
    "test_code, test_comment = list(test_code), list(test_comment)\n",
    "\n",
    "seq2seq_inf = Seq2Seq_Inference(encoder_preprocessor=enc_pp,\n",
    "                                 decoder_preprocessor=dec_pp,\n",
    "                                 seq2seq_model=seq2seq_Model)\n",
    "\n",
    "demo_testdf = pd.DataFrame({'code':test_code, 'comment':test_comment, 'ref':''})\n",
    "seq2seq_inf.demo_model_predictions(n=15, df=demo_testdf)"
   ]
  },
  {
   "cell_type": "code",
   "execution_count": 177,
   "metadata": {},
   "outputs": [
    {
     "name": "stderr",
     "output_type": "stream",
     "text": [
      "WARNING:root:Generating predictions.\n"
     ]
    },
    {
     "data": {
      "application/vnd.jupyter.widget-view+json": {
       "model_id": "191e0823c3164393a58a6380a1c2231b",
       "version_major": 2,
       "version_minor": 0
      },
      "text/plain": [
       "HBox(children=(IntProgress(value=0, max=500), HTML(value='')))"
      ]
     },
     "metadata": {},
     "output_type": "display_data"
    },
    {
     "name": "stderr",
     "output_type": "stream",
     "text": [
      "WARNING:root:Calculating BLEU.\n"
     ]
    },
    {
     "name": "stdout",
     "output_type": "stream",
     "text": [
      "\n"
     ]
    },
    {
     "data": {
      "text/plain": [
       "0.02662236674559463"
      ]
     },
     "execution_count": 177,
     "metadata": {},
     "output_type": "execute_result"
    }
   ],
   "source": [
    "seq2seq_inf.evaluate_model(input_strings=test_code, \n",
    "                           output_strings=test_comment, \n",
    "                           max_len=None)"
   ]
  },
  {
   "cell_type": "markdown",
   "metadata": {},
   "source": [
    "### Transformer Model"
   ]
  },
  {
   "cell_type": "markdown",
   "metadata": {},
   "source": [
    "Processing the data "
   ]
  },
  {
   "cell_type": "code",
   "execution_count": 15,
   "metadata": {},
   "outputs": [],
   "source": [
    "from general_utils import create_token_map, build_vocab, build_data\n",
    "\n",
    "TRANS_PATH = Path('./data/transformer/')\n",
    "\n",
    "tr_src_tokens = build_vocab(create_token_map(train_code), outpath=TRANS_PATH/\"train_code_tokens.txt\")\n",
    "tr_target_tokens = build_vocab(create_token_map(train_comment), outpath=TRANS_PATH/\"train_comment_tokens.txt\")\n",
    "\n",
    "tst_src_tokens = build_vocab(create_token_map(test_code), outpath=TRANS_PATH/\"test_code_tokens.txt\")\n",
    "tst_target_tokens = build_vocab(create_token_map(test_comment), outpath=TRANS_PATH/\"test_comment_tokens.txt\")"
   ]
  },
  {
   "cell_type": "code",
   "execution_count": 18,
   "metadata": {},
   "outputs": [],
   "source": [
    "from general_utils import create_validation\n",
    "\n",
    "valid_code, valid_comment = create_validation(train_code, train_comment)\n",
    "\n",
    "X_valid, y_valid = build_data(source_data=valid_code, target_data=valid_comment, \n",
    "                             src_tokens=tr_src_tokens, tar_tokens=tr_target_tokens, \n",
    "                             h5_file='data/transformer/valid.h5')\n",
    "\n",
    "X_train, y_train = build_data(source_data=train_code, target_data=train_comment, \n",
    "                              src_tokens=tr_src_tokens, tar_tokens=tr_target_tokens,\n",
    "                             h5_file='data/transformer/train.h5')\n",
    "\n",
    "X_test, y_test = build_data(source_data=test_code, target_data=test_comment, \n",
    "                            src_tokens=tst_src_tokens, tar_tokens=tst_target_tokens,\n",
    "                            h5_file='data/transformer/test.h5')"
   ]
  },
  {
   "cell_type": "markdown",
   "metadata": {},
   "source": [
    "## Load data and from here"
   ]
  },
  {
   "cell_type": "code",
   "execution_count": 23,
   "metadata": {},
   "outputs": [
    {
     "name": "stderr",
     "output_type": "stream",
     "text": [
      "WARNING:root:Loading data/transformer/valid.h5\n",
      "WARNING:root:Loading data/transformer/train.h5\n",
      "WARNING:root:Loading data/transformer/test.h5\n"
     ]
    }
   ],
   "source": [
    "from general_utils import load_data\n",
    "\n",
    "X_valid, y_valid = load_data(h5_file='data/transformer/valid.h5')\n",
    "\n",
    "X_train, y_train = load_data(h5_file='data/transformer/train.h5')\n",
    "\n",
    "X_test, y_test = load_data(h5_file='data/transformer/test.h5')"
   ]
  },
  {
   "cell_type": "code",
   "execution_count": 26,
   "metadata": {},
   "outputs": [
    {
     "name": "stdout",
     "output_type": "stream",
     "text": [
      "__________________________________________________________________________________________________\n",
      "Layer (type)                    Output Shape         Param #     Connected to                     \n",
      "==================================================================================================\n",
      "input_2 (InputLayer)            (None, None)         0                                            \n",
      "__________________________________________________________________________________________________\n",
      "lambda_2 (Lambda)               (None, None)         0           input_2[0][0]                    \n",
      "__________________________________________________________________________________________________\n",
      "input_1 (InputLayer)            (None, None)         0                                            \n",
      "__________________________________________________________________________________________________\n",
      "lambda_5 (Lambda)               (None, None)         0           lambda_2[0][0]                   \n",
      "__________________________________________________________________________________________________\n",
      "lambda_4 (Lambda)               (None, None)         0           input_1[0][0]                    \n",
      "__________________________________________________________________________________________________\n",
      "embedding_6 (Embedding)         (None, None, 256)    3176704     lambda_2[0][0]                   \n",
      "__________________________________________________________________________________________________\n",
      "embedding_4 (Embedding)         (None, None, 256)    17920       lambda_4[0][0]                   \n",
      "                                                                 lambda_5[0][0]                   \n",
      "__________________________________________________________________________________________________\n",
      "embedding_5 (Embedding)         (None, None, 256)    15549440    input_1[0][0]                    \n",
      "__________________________________________________________________________________________________\n",
      "lambda_1 (Lambda)               (None, None, 256)    0           embedding_5[0][0]                \n",
      "                                                                 embedding_4[0][0]                \n",
      "                                                                 embedding_6[0][0]                \n",
      "                                                                 embedding_4[1][0]                \n",
      "__________________________________________________________________________________________________\n",
      "dropout_12 (Dropout)            (None, None, 256)    0           lambda_1[0][0]                   \n",
      "__________________________________________________________________________________________________\n",
      "dense_26 (Dense)                (None, None, 256)    65536       dropout_12[0][0]                 \n",
      "__________________________________________________________________________________________________\n",
      "dense_27 (Dense)                (None, None, 256)    65536       dropout_12[0][0]                 \n",
      "__________________________________________________________________________________________________\n",
      "lambda_6 (Lambda)               (None, None)         0           input_1[0][0]                    \n",
      "__________________________________________________________________________________________________\n",
      "lambda_7 (Lambda)               (None, None, None)   0           dense_26[0][0]                   \n",
      "__________________________________________________________________________________________________\n",
      "lambda_8 (Lambda)               (None, None, None)   0           dense_27[0][0]                   \n",
      "__________________________________________________________________________________________________\n",
      "lambda_10 (Lambda)              (None, None)         0           lambda_6[0][0]                   \n",
      "__________________________________________________________________________________________________\n",
      "lambda_11 (Lambda)              (None, None, None)   0           lambda_7[0][0]                   \n",
      "                                                                 lambda_8[0][0]                   \n",
      "__________________________________________________________________________________________________\n",
      "lambda_12 (Lambda)              (None, None)         0           lambda_10[0][0]                  \n",
      "__________________________________________________________________________________________________\n",
      "add_1 (Add)                     (None, None, None)   0           lambda_11[0][0]                  \n",
      "                                                                 lambda_12[0][0]                  \n",
      "__________________________________________________________________________________________________\n",
      "activation_1 (Activation)       (None, None, None)   0           add_1[0][0]                      \n",
      "__________________________________________________________________________________________________\n",
      "dense_28 (Dense)                (None, None, 256)    65536       dropout_12[0][0]                 \n",
      "__________________________________________________________________________________________________\n",
      "dropout_13 (Dropout)            (None, None, None)   0           activation_1[0][0]               \n",
      "__________________________________________________________________________________________________\n",
      "lambda_9 (Lambda)               (None, None, None)   0           dense_28[0][0]                   \n",
      "__________________________________________________________________________________________________\n",
      "lambda_13 (Lambda)              (None, None, None)   0           dropout_13[0][0]                 \n",
      "                                                                 lambda_9[0][0]                   \n",
      "__________________________________________________________________________________________________\n",
      "lambda_14 (Lambda)              (None, None, 256)    0           lambda_13[0][0]                  \n",
      "__________________________________________________________________________________________________\n",
      "time_distributed_8 (TimeDistrib (None, None, 256)    65792       lambda_14[0][0]                  \n",
      "__________________________________________________________________________________________________\n",
      "dropout_23 (Dropout)            (None, None, 256)    0           time_distributed_8[0][0]         \n",
      "__________________________________________________________________________________________________\n",
      "add_2 (Add)                     (None, None, 256)    0           dropout_23[0][0]                 \n",
      "                                                                 dropout_12[0][0]                 \n",
      "__________________________________________________________________________________________________\n",
      "layer_normalization_11 (LayerNo (None, None, 256)    512         add_2[0][0]                      \n",
      "__________________________________________________________________________________________________\n",
      "conv1d_9 (Conv1D)               (None, None, 512)    131584      layer_normalization_11[0][0]     \n",
      "__________________________________________________________________________________________________\n",
      "conv1d_10 (Conv1D)              (None, None, 256)    131328      conv1d_9[0][0]                   \n",
      "__________________________________________________________________________________________________\n",
      "dropout_14 (Dropout)            (None, None, 256)    0           conv1d_10[0][0]                  \n",
      "__________________________________________________________________________________________________\n",
      "add_3 (Add)                     (None, None, 256)    0           dropout_14[0][0]                 \n",
      "                                                                 layer_normalization_11[0][0]     \n",
      "__________________________________________________________________________________________________\n",
      "layer_normalization_12 (LayerNo (None, None, 256)    512         add_3[0][0]                      \n",
      "__________________________________________________________________________________________________\n",
      "dense_30 (Dense)                (None, None, 256)    65536       layer_normalization_12[0][0]     \n",
      "__________________________________________________________________________________________________\n",
      "dense_31 (Dense)                (None, None, 256)    65536       layer_normalization_12[0][0]     \n",
      "__________________________________________________________________________________________________\n",
      "lambda_15 (Lambda)              (None, None, None)   0           dense_30[0][0]                   \n",
      "__________________________________________________________________________________________________\n",
      "lambda_16 (Lambda)              (None, None, None)   0           dense_31[0][0]                   \n",
      "__________________________________________________________________________________________________\n",
      "lambda_18 (Lambda)              (None, None)         0           lambda_6[0][0]                   \n",
      "__________________________________________________________________________________________________\n",
      "lambda_19 (Lambda)              (None, None, None)   0           lambda_15[0][0]                  \n",
      "                                                                 lambda_16[0][0]                  \n",
      "__________________________________________________________________________________________________\n",
      "lambda_20 (Lambda)              (None, None)         0           lambda_18[0][0]                  \n",
      "__________________________________________________________________________________________________\n",
      "add_4 (Add)                     (None, None, None)   0           lambda_19[0][0]                  \n",
      "                                                                 lambda_20[0][0]                  \n",
      "__________________________________________________________________________________________________\n",
      "lambda_23 (Lambda)              (None, None, None)   0           lambda_2[0][0]                   \n",
      "__________________________________________________________________________________________________\n",
      "lambda_24 (Lambda)              (None, None, None)   0           lambda_2[0][0]                   \n",
      "__________________________________________________________________________________________________\n",
      "activation_2 (Activation)       (None, None, None)   0           add_4[0][0]                      \n",
      "__________________________________________________________________________________________________\n",
      "dense_32 (Dense)                (None, None, 256)    65536       layer_normalization_12[0][0]     \n",
      "__________________________________________________________________________________________________\n",
      "dense_34 (Dense)                (None, None, 256)    65536       lambda_1[1][0]                   \n",
      "__________________________________________________________________________________________________\n",
      "dense_35 (Dense)                (None, None, 256)    65536       lambda_1[1][0]                   \n",
      "__________________________________________________________________________________________________\n",
      "lambda_25 (Lambda)              (None, None, None)   0           lambda_23[0][0]                  \n",
      "                                                                 lambda_24[0][0]                  \n",
      "__________________________________________________________________________________________________\n",
      "dropout_15 (Dropout)            (None, None, None)   0           activation_2[0][0]               \n",
      "__________________________________________________________________________________________________\n",
      "lambda_17 (Lambda)              (None, None, None)   0           dense_32[0][0]                   \n",
      "__________________________________________________________________________________________________\n",
      "lambda_27 (Lambda)              (None, None, None)   0           dense_34[0][0]                   \n",
      "__________________________________________________________________________________________________\n",
      "lambda_28 (Lambda)              (None, None, None)   0           dense_35[0][0]                   \n",
      "__________________________________________________________________________________________________\n",
      "lambda_30 (Lambda)              (None, None, None)   0           lambda_25[0][0]                  \n",
      "__________________________________________________________________________________________________\n",
      "lambda_21 (Lambda)              (None, None, None)   0           dropout_15[0][0]                 \n",
      "                                                                 lambda_17[0][0]                  \n",
      "__________________________________________________________________________________________________\n",
      "lambda_31 (Lambda)              (None, None, None)   0           lambda_27[0][0]                  \n",
      "                                                                 lambda_28[0][0]                  \n",
      "__________________________________________________________________________________________________\n",
      "lambda_32 (Lambda)              (None, None, None)   0           lambda_30[0][0]                  \n",
      "__________________________________________________________________________________________________\n",
      "lambda_22 (Lambda)              (None, None, 256)    0           lambda_21[0][0]                  \n",
      "__________________________________________________________________________________________________\n",
      "add_7 (Add)                     (None, None, None)   0           lambda_31[0][0]                  \n",
      "                                                                 lambda_32[0][0]                  \n",
      "__________________________________________________________________________________________________\n",
      "time_distributed_9 (TimeDistrib (None, None, 256)    65792       lambda_22[0][0]                  \n",
      "__________________________________________________________________________________________________\n",
      "activation_3 (Activation)       (None, None, None)   0           add_7[0][0]                      \n",
      "__________________________________________________________________________________________________\n",
      "dense_36 (Dense)                (None, None, 256)    65536       lambda_1[1][0]                   \n",
      "__________________________________________________________________________________________________\n",
      "dropout_24 (Dropout)            (None, None, 256)    0           time_distributed_9[0][0]         \n",
      "__________________________________________________________________________________________________\n",
      "dropout_17 (Dropout)            (None, None, None)   0           activation_3[0][0]               \n",
      "__________________________________________________________________________________________________\n",
      "lambda_29 (Lambda)              (None, None, None)   0           dense_36[0][0]                   \n",
      "__________________________________________________________________________________________________\n",
      "add_5 (Add)                     (None, None, 256)    0           dropout_24[0][0]                 \n",
      "                                                                 layer_normalization_12[0][0]     \n",
      "__________________________________________________________________________________________________\n",
      "lambda_33 (Lambda)              (None, None, None)   0           dropout_17[0][0]                 \n",
      "                                                                 lambda_29[0][0]                  \n",
      "__________________________________________________________________________________________________\n",
      "layer_normalization_13 (LayerNo (None, None, 256)    512         add_5[0][0]                      \n",
      "__________________________________________________________________________________________________\n",
      "lambda_34 (Lambda)              (None, None, 256)    0           lambda_33[0][0]                  \n",
      "__________________________________________________________________________________________________\n",
      "conv1d_11 (Conv1D)              (None, None, 512)    131584      layer_normalization_13[0][0]     \n",
      "__________________________________________________________________________________________________\n",
      "time_distributed_10 (TimeDistri (None, None, 256)    65792       lambda_34[0][0]                  \n",
      "__________________________________________________________________________________________________\n",
      "conv1d_12 (Conv1D)              (None, None, 256)    131328      conv1d_11[0][0]                  \n",
      "__________________________________________________________________________________________________\n",
      "dropout_25 (Dropout)            (None, None, 256)    0           time_distributed_10[0][0]        \n",
      "__________________________________________________________________________________________________\n",
      "dropout_16 (Dropout)            (None, None, 256)    0           conv1d_12[0][0]                  \n",
      "__________________________________________________________________________________________________\n",
      "add_8 (Add)                     (None, None, 256)    0           dropout_25[0][0]                 \n",
      "                                                                 lambda_1[1][0]                   \n",
      "__________________________________________________________________________________________________\n",
      "add_6 (Add)                     (None, None, 256)    0           dropout_16[0][0]                 \n",
      "                                                                 layer_normalization_13[0][0]     \n",
      "__________________________________________________________________________________________________\n",
      "layer_normalization_15 (LayerNo (None, None, 256)    512         add_8[0][0]                      \n",
      "__________________________________________________________________________________________________\n",
      "layer_normalization_14 (LayerNo (None, None, 256)    512         add_6[0][0]                      \n",
      "__________________________________________________________________________________________________\n",
      "dense_38 (Dense)                (None, None, 256)    65536       layer_normalization_15[0][0]     \n",
      "__________________________________________________________________________________________________\n",
      "dense_39 (Dense)                (None, None, 256)    65536       layer_normalization_14[0][0]     \n",
      "__________________________________________________________________________________________________\n",
      "lambda_26 (Lambda)              (None, None, None)   0           lambda_2[0][0]                   \n",
      "                                                                 input_1[0][0]                    \n",
      "__________________________________________________________________________________________________\n",
      "lambda_35 (Lambda)              (None, None, None)   0           dense_38[0][0]                   \n",
      "__________________________________________________________________________________________________\n",
      "lambda_36 (Lambda)              (None, None, None)   0           dense_39[0][0]                   \n",
      "__________________________________________________________________________________________________\n",
      "lambda_38 (Lambda)              (None, None, None)   0           lambda_26[0][0]                  \n",
      "__________________________________________________________________________________________________\n",
      "lambda_39 (Lambda)              (None, None, None)   0           lambda_35[0][0]                  \n",
      "                                                                 lambda_36[0][0]                  \n",
      "__________________________________________________________________________________________________\n",
      "lambda_40 (Lambda)              (None, None, None)   0           lambda_38[0][0]                  \n",
      "__________________________________________________________________________________________________\n",
      "add_9 (Add)                     (None, None, None)   0           lambda_39[0][0]                  \n",
      "                                                                 lambda_40[0][0]                  \n",
      "__________________________________________________________________________________________________\n",
      "activation_4 (Activation)       (None, None, None)   0           add_9[0][0]                      \n",
      "__________________________________________________________________________________________________\n",
      "dense_40 (Dense)                (None, None, 256)    65536       layer_normalization_14[0][0]     \n",
      "__________________________________________________________________________________________________\n",
      "dropout_18 (Dropout)            (None, None, None)   0           activation_4[0][0]               \n",
      "__________________________________________________________________________________________________\n",
      "lambda_37 (Lambda)              (None, None, None)   0           dense_40[0][0]                   \n",
      "__________________________________________________________________________________________________\n",
      "lambda_41 (Lambda)              (None, None, None)   0           dropout_18[0][0]                 \n",
      "                                                                 lambda_37[0][0]                  \n",
      "__________________________________________________________________________________________________\n",
      "lambda_42 (Lambda)              (None, None, 256)    0           lambda_41[0][0]                  \n",
      "__________________________________________________________________________________________________\n",
      "time_distributed_11 (TimeDistri (None, None, 256)    65792       lambda_42[0][0]                  \n",
      "__________________________________________________________________________________________________\n",
      "dropout_26 (Dropout)            (None, None, 256)    0           time_distributed_11[0][0]        \n",
      "__________________________________________________________________________________________________\n",
      "add_10 (Add)                    (None, None, 256)    0           dropout_26[0][0]                 \n",
      "                                                                 layer_normalization_15[0][0]     \n",
      "__________________________________________________________________________________________________\n",
      "layer_normalization_16 (LayerNo (None, None, 256)    512         add_10[0][0]                     \n",
      "__________________________________________________________________________________________________\n",
      "conv1d_13 (Conv1D)              (None, None, 512)    131584      layer_normalization_16[0][0]     \n",
      "__________________________________________________________________________________________________\n",
      "conv1d_14 (Conv1D)              (None, None, 256)    131328      conv1d_13[0][0]                  \n",
      "__________________________________________________________________________________________________\n",
      "dropout_19 (Dropout)            (None, None, 256)    0           conv1d_14[0][0]                  \n",
      "__________________________________________________________________________________________________\n",
      "add_11 (Add)                    (None, None, 256)    0           dropout_19[0][0]                 \n",
      "                                                                 layer_normalization_16[0][0]     \n",
      "__________________________________________________________________________________________________\n",
      "layer_normalization_17 (LayerNo (None, None, 256)    512         add_11[0][0]                     \n",
      "__________________________________________________________________________________________________\n",
      "dense_42 (Dense)                (None, None, 256)    65536       layer_normalization_17[0][0]     \n",
      "__________________________________________________________________________________________________\n",
      "dense_43 (Dense)                (None, None, 256)    65536       layer_normalization_17[0][0]     \n",
      "__________________________________________________________________________________________________\n",
      "lambda_43 (Lambda)              (None, None, None)   0           dense_42[0][0]                   \n",
      "__________________________________________________________________________________________________\n",
      "lambda_44 (Lambda)              (None, None, None)   0           dense_43[0][0]                   \n",
      "__________________________________________________________________________________________________\n",
      "lambda_46 (Lambda)              (None, None, None)   0           lambda_25[0][0]                  \n",
      "__________________________________________________________________________________________________\n",
      "lambda_47 (Lambda)              (None, None, None)   0           lambda_43[0][0]                  \n",
      "                                                                 lambda_44[0][0]                  \n",
      "__________________________________________________________________________________________________\n",
      "lambda_48 (Lambda)              (None, None, None)   0           lambda_46[0][0]                  \n",
      "__________________________________________________________________________________________________\n",
      "add_12 (Add)                    (None, None, None)   0           lambda_47[0][0]                  \n",
      "                                                                 lambda_48[0][0]                  \n",
      "__________________________________________________________________________________________________\n",
      "activation_5 (Activation)       (None, None, None)   0           add_12[0][0]                     \n",
      "__________________________________________________________________________________________________\n",
      "dense_44 (Dense)                (None, None, 256)    65536       layer_normalization_17[0][0]     \n",
      "__________________________________________________________________________________________________\n",
      "dropout_20 (Dropout)            (None, None, None)   0           activation_5[0][0]               \n",
      "__________________________________________________________________________________________________\n",
      "lambda_45 (Lambda)              (None, None, None)   0           dense_44[0][0]                   \n",
      "__________________________________________________________________________________________________\n",
      "lambda_49 (Lambda)              (None, None, None)   0           dropout_20[0][0]                 \n",
      "                                                                 lambda_45[0][0]                  \n",
      "__________________________________________________________________________________________________\n",
      "lambda_50 (Lambda)              (None, None, 256)    0           lambda_49[0][0]                  \n",
      "__________________________________________________________________________________________________\n",
      "time_distributed_12 (TimeDistri (None, None, 256)    65792       lambda_50[0][0]                  \n",
      "__________________________________________________________________________________________________\n",
      "dropout_27 (Dropout)            (None, None, 256)    0           time_distributed_12[0][0]        \n",
      "__________________________________________________________________________________________________\n",
      "add_13 (Add)                    (None, None, 256)    0           dropout_27[0][0]                 \n",
      "                                                                 layer_normalization_17[0][0]     \n",
      "__________________________________________________________________________________________________\n",
      "layer_normalization_18 (LayerNo (None, None, 256)    512         add_13[0][0]                     \n",
      "__________________________________________________________________________________________________\n",
      "dense_46 (Dense)                (None, None, 256)    65536       layer_normalization_18[0][0]     \n",
      "__________________________________________________________________________________________________\n",
      "dense_47 (Dense)                (None, None, 256)    65536       layer_normalization_14[0][0]     \n",
      "__________________________________________________________________________________________________\n",
      "lambda_51 (Lambda)              (None, None, None)   0           dense_46[0][0]                   \n",
      "__________________________________________________________________________________________________\n",
      "lambda_52 (Lambda)              (None, None, None)   0           dense_47[0][0]                   \n",
      "__________________________________________________________________________________________________\n",
      "lambda_54 (Lambda)              (None, None, None)   0           lambda_26[0][0]                  \n",
      "__________________________________________________________________________________________________\n",
      "lambda_55 (Lambda)              (None, None, None)   0           lambda_51[0][0]                  \n",
      "                                                                 lambda_52[0][0]                  \n",
      "__________________________________________________________________________________________________\n",
      "lambda_56 (Lambda)              (None, None, None)   0           lambda_54[0][0]                  \n",
      "__________________________________________________________________________________________________\n",
      "add_14 (Add)                    (None, None, None)   0           lambda_55[0][0]                  \n",
      "                                                                 lambda_56[0][0]                  \n",
      "__________________________________________________________________________________________________\n",
      "activation_6 (Activation)       (None, None, None)   0           add_14[0][0]                     \n",
      "__________________________________________________________________________________________________\n",
      "dense_48 (Dense)                (None, None, 256)    65536       layer_normalization_14[0][0]     \n",
      "__________________________________________________________________________________________________\n",
      "dropout_21 (Dropout)            (None, None, None)   0           activation_6[0][0]               \n",
      "__________________________________________________________________________________________________\n",
      "lambda_53 (Lambda)              (None, None, None)   0           dense_48[0][0]                   \n",
      "__________________________________________________________________________________________________\n",
      "lambda_57 (Lambda)              (None, None, None)   0           dropout_21[0][0]                 \n",
      "                                                                 lambda_53[0][0]                  \n",
      "__________________________________________________________________________________________________\n",
      "lambda_58 (Lambda)              (None, None, 256)    0           lambda_57[0][0]                  \n",
      "__________________________________________________________________________________________________\n",
      "time_distributed_13 (TimeDistri (None, None, 256)    65792       lambda_58[0][0]                  \n",
      "__________________________________________________________________________________________________\n",
      "dropout_28 (Dropout)            (None, None, 256)    0           time_distributed_13[0][0]        \n",
      "__________________________________________________________________________________________________\n",
      "add_15 (Add)                    (None, None, 256)    0           dropout_28[0][0]                 \n",
      "                                                                 layer_normalization_18[0][0]     \n",
      "__________________________________________________________________________________________________\n",
      "layer_normalization_19 (LayerNo (None, None, 256)    512         add_15[0][0]                     \n",
      "__________________________________________________________________________________________________\n",
      "conv1d_15 (Conv1D)              (None, None, 512)    131584      layer_normalization_19[0][0]     \n",
      "__________________________________________________________________________________________________\n",
      "conv1d_16 (Conv1D)              (None, None, 256)    131328      conv1d_15[0][0]                  \n",
      "__________________________________________________________________________________________________\n",
      "dropout_22 (Dropout)            (None, None, 256)    0           conv1d_16[0][0]                  \n",
      "__________________________________________________________________________________________________\n",
      "add_16 (Add)                    (None, None, 256)    0           dropout_22[0][0]                 \n",
      "                                                                 layer_normalization_19[0][0]     \n",
      "__________________________________________________________________________________________________\n",
      "layer_normalization_20 (LayerNo (None, None, 256)    512         add_16[0][0]                     \n",
      "__________________________________________________________________________________________________\n",
      "time_distributed_14 (TimeDistri (None, None, 12409)  3176704     layer_normalization_20[0][0]     \n",
      "==================================================================================================\n",
      "Total params: 24,551,936\n",
      "Trainable params: 24,534,016\n",
      "Non-trainable params: 17,920\n",
      "__________________________________________________________________________________________________\n"
     ]
    }
   ],
   "source": [
    "from transformer_models.keras_trans.transformer import Transformer, LRSchedulerPerStep\n",
    "from keras.optimizers import Adam\n",
    "from keras.callbacks import CSVLogger, ModelCheckpoint\n",
    "\n",
    "hidden_dim = 256\n",
    "s2s = Transformer(tr_src_tokens, tr_target_tokens, len_limit=70, d_model=hidden_dim, d_inner_hid=512, \\\n",
    "    n_head=8, layers=2, dropout=0.1)\n",
    "\n",
    "\n",
    "csv_logger = CSVLogger('./data/logs/trans.log')\n",
    "\n",
    "mfile = './models/trans.model.h5'\n",
    "lr_scheduler = LRSchedulerPerStep(hidden_dim, 4000) \n",
    "model_saver = ModelCheckpoint(mfile, save_best_only=True, save_weights_only=True)\n",
    "\n",
    "s2s.compile(Adam(lr=0.001, beta_1=0.9, beta_2=0.98, epsilon=1e-9))\n",
    "s2s.model.summary()"
   ]
  },
  {
   "cell_type": "code",
   "execution_count": 313,
   "metadata": {},
   "outputs": [],
   "source": [
    "x_small, y_small = X_train[:10000], y_train[:10000]\n",
    "valid_small_x, valid_small_y = X_valid[:100], y_valid[:100]"
   ]
  },
  {
   "cell_type": "code",
   "execution_count": 314,
   "metadata": {},
   "outputs": [
    {
     "name": "stdout",
     "output_type": "stream",
     "text": [
      "Train on 10000 samples, validate on 100 samples\n",
      "Epoch 1/16\n",
      "10000/10000 [==============================] - 19s 2ms/step - loss: 7.9755 - ppl: 2953.2823 - accu: 0.2474 - val_loss: 7.5931 - val_ppl: 1984.4227 - val_accu: 0.2278\n",
      "Epoch 2/16\n",
      "10000/10000 [==============================] - 19s 2ms/step - loss: 7.2923 - ppl: 1504.1189 - accu: 0.2474 - val_loss: 6.8171 - val_ppl: 913.3165 - val_accu: 0.2278\n",
      "Epoch 3/16\n",
      "10000/10000 [==============================] - 19s 2ms/step - loss: 6.4279 - ppl: 641.9203 - accu: 0.2474 - val_loss: 5.8516 - val_ppl: 347.7926 - val_accu: 0.2278\n",
      "Epoch 4/16\n",
      "10000/10000 [==============================] - 19s 2ms/step - loss: 5.4048 - ppl: 232.6180 - accu: 0.2474 - val_loss: 4.7805 - val_ppl: 119.1685 - val_accu: 0.2278\n",
      "Epoch 5/16\n",
      "10000/10000 [==============================] - 19s 2ms/step - loss: 4.3566 - ppl: 81.1409 - accu: 0.2474 - val_loss: 3.8314 - val_ppl: 46.1261 - val_accu: 0.2278\n",
      "Epoch 6/16\n",
      "10000/10000 [==============================] - 19s 2ms/step - loss: 3.5377 - ppl: 34.9620 - accu: 0.2474 - val_loss: 3.2561 - val_ppl: 25.9476 - val_accu: 0.2278\n",
      "Epoch 7/16\n",
      "10000/10000 [==============================] - 19s 2ms/step - loss: 3.0840 - ppl: 21.9505 - accu: 0.2520 - val_loss: 3.0042 - val_ppl: 20.1698 - val_accu: 0.2278\n",
      "Epoch 8/16\n",
      "10000/10000 [==============================] - 19s 2ms/step - loss: 2.8522 - ppl: 17.3646 - accu: 0.2900 - val_loss: 2.8329 - val_ppl: 16.9954 - val_accu: 0.2976\n",
      "Epoch 9/16\n",
      "10000/10000 [==============================] - 19s 2ms/step - loss: 2.6866 - ppl: 14.7063 - accu: 0.3249 - val_loss: 2.7039 - val_ppl: 14.9382 - val_accu: 0.2976\n",
      "Epoch 10/16\n",
      "10000/10000 [==============================] - 19s 2ms/step - loss: 2.5536 - ppl: 12.8725 - accu: 0.3380 - val_loss: 2.6236 - val_ppl: 13.7848 - val_accu: 0.3082\n",
      "Epoch 11/16\n",
      "10000/10000 [==============================] - 19s 2ms/step - loss: 2.4419 - ppl: 11.5151 - accu: 0.3630 - val_loss: 2.5159 - val_ppl: 12.3783 - val_accu: 0.3494\n",
      "Epoch 12/16\n",
      "10000/10000 [==============================] - 19s 2ms/step - loss: 2.3308 - ppl: 10.3003 - accu: 0.3841 - val_loss: 2.4588 - val_ppl: 11.6913 - val_accu: 0.3498\n",
      "Epoch 13/16\n",
      "10000/10000 [==============================] - 19s 2ms/step - loss: 2.2263 - ppl: 9.2849 - accu: 0.4000 - val_loss: 2.3401 - val_ppl: 10.3824 - val_accu: 0.3567\n",
      "Epoch 14/16\n",
      "10000/10000 [==============================] - 19s 2ms/step - loss: 2.1291 - ppl: 8.4186 - accu: 0.4247 - val_loss: 2.2886 - val_ppl: 9.8607 - val_accu: 0.3897\n",
      "Epoch 15/16\n",
      "10000/10000 [==============================] - 19s 2ms/step - loss: 2.0497 - ppl: 7.7808 - accu: 0.4453 - val_loss: 2.2389 - val_ppl: 9.3828 - val_accu: 0.3944\n",
      "Epoch 16/16\n",
      "10000/10000 [==============================] - 19s 2ms/step - loss: 1.9825 - ppl: 7.2790 - accu: 0.4624 - val_loss: 2.1898 - val_ppl: 8.9330 - val_accu: 0.4067\n"
     ]
    },
    {
     "data": {
      "text/plain": [
       "<keras.callbacks.History at 0x7f59cc7d0be0>"
      ]
     },
     "execution_count": 314,
     "metadata": {},
     "output_type": "execute_result"
    }
   ],
   "source": [
    "s2s.model.fit([x_small, y_small], batch_size=256, epochs=16,\n",
    "              validation_data=([valid_small_x, valid_small_y], None),\n",
    "              callbacks=[lr_scheduler, model_saver, csv_logger])"
   ]
  }
 ],
 "metadata": {
  "kernelspec": {
   "display_name": "Python 3",
   "language": "python",
   "name": "python3"
  },
  "language_info": {
   "codemirror_mode": {
    "name": "ipython",
    "version": 3
   },
   "file_extension": ".py",
   "mimetype": "text/x-python",
   "name": "python",
   "nbconvert_exporter": "python",
   "pygments_lexer": "ipython3",
   "version": "3.6.3"
  }
 },
 "nbformat": 4,
 "nbformat_minor": 2
}
